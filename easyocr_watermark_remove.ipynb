{
  "nbformat": 4,
  "nbformat_minor": 0,
  "metadata": {
    "colab": {
      "provenance": [],
      "gpuType": "T4"
    },
    "kernelspec": {
      "name": "python3",
      "display_name": "Python 3"
    },
    "language_info": {
      "name": "python"
    },
    "accelerator": "GPU"
  },
  "cells": [
    {
      "cell_type": "code",
      "execution_count": 3,
      "metadata": {
        "cellView": "form",
        "id": "2dYQsIBK39O_"
      },
      "outputs": [],
      "source": [
        "#@title Install EasyOCR\n",
        "%cd \"/content\"\n",
        "!git clone https://github.com/NeuralFalconYT/Remove-Watermark-Text-from-Video.git\n",
        "%cd Remove-Watermark-Text-from-Video\n",
        "!pip install -r requirements.txt\n",
        "!sudo apt update && sudo apt install -y ffmpeg\n",
        "from IPython.display import clear_output\n",
        "clear_output()\n"
      ]
    },
    {
      "cell_type": "code",
      "source": [
        "%cd \"/content/Remove-Watermark-Text-from-Video\"\n",
        "!python app.py --share --debug"
      ],
      "metadata": {
        "id": "qrkVPbMs48EO"
      },
      "execution_count": null,
      "outputs": []
    }
  ]
}